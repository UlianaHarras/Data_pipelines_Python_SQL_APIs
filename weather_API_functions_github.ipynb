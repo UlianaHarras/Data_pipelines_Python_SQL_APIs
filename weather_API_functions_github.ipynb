{
 "cells": [
  {
   "cell_type": "code",
   "execution_count": 46,
   "id": "7b34390b-1f43-4a48-8378-ae4e3634e885",
   "metadata": {},
   "outputs": [],
   "source": [
    "## Functions aimed to get the weather data for cities from API \n",
    "## and store it as an SQL database\n",
    "\n",
    "# Importing libraries:\n",
    "import pandas as pd\n",
    "import requests\n",
    "import json\n",
    "from pytz import timezone\n",
    "from datetime import datetime\n",
    "\n",
    "# Main unction to retrieve data from OpenWeatherAPI and send it to SQL\n",
    "def retrieve_and_send_data():\n",
    "  connection_string = create_connection_string()\n",
    "  cities_df = fetch_cities_data(connection_string)\n",
    "  cities_weather_df = fetch_weather_data(cities_df)\n",
    "  store_weather_data(cities_weather_df, connection_string)\n",
    "  return \"Data has been updated\"\n",
    "\n",
    "# Function to create a connection string to save data in SQL database\n",
    "def create_connection_string():\n",
    "  schema = \"YOUR_SQL_DATABASE_NAME\"\n",
    "  host = \"11.11.111.111\"\n",
    "  user = \"root\"\n",
    "  password = \"YOUR_PASSWORD\"\n",
    "  port = 3306\n",
    "  return f'mysql+pymysql://{user}:{password}@{host}:{port}/{schema}'\n",
    "\n",
    "# Function to get cities data (city name,id and lat/long) from SQL\n",
    "def fetch_cities_data(connection_string):\n",
    "  return pd.read_sql(\"cities\", con=connection_string)\n",
    "\n",
    "# Function to get weather info for cities from API\n",
    "def fetch_weather_data(cities_df):\n",
    "    berlin_timezone = timezone('Europe/Berlin')\n",
    "    API_key='YOUR_API_KEY'\n",
    "    weather_items=[]\n",
    "    \n",
    "    for _, city in cities_df.iterrows():\n",
    "        city_id = city['city_id']\n",
    "        latitude = city['latitude']\n",
    "        longitude = city['longitude']\n",
    "        weather_df = requests.get(f'https://api.openweathermap.org/data/2.5/forecast?lat={latitude}&lon={longitude}&appid={API_key}&units=metric')\n",
    "        weather_df_json = weather_df.json()\n",
    "        \n",
    "        retrieval_time = datetime.now(berlin_timezone).strftime(\"%Y-%m-%d %H:%M:%S\")\n",
    "    \n",
    "        for i in weather_df_json['list']:\n",
    "            weather_item = {\n",
    "                    \"city_id\": city_id,\n",
    "                    \"forecast_time\": i.get(\"dt_txt\",None),\n",
    "                    \"outlook\": i[\"weather\"][0].get('description',None),\n",
    "                    \"temperature\": i[\"main\"].get(\"temp\",None),\n",
    "                    \"feels_like\": i[\"main\"].get('feels_like',None), \n",
    "                    \"wind_speed\": i[\"wind\"].get(\"speed\",None),\n",
    "                    \"rain_prob\": i.get('pop',None),\n",
    "                    \"rain_in_last_3h\":i.get('rain',{}).get('3h',0),\n",
    "                    \"snow_in_last_3h\":i.get('snow',{}).get('3h',0),\n",
    "                    \"data_retrieved_at\": retrieval_time\n",
    "              }\n",
    "            weather_items.append(weather_item)\n",
    "    \n",
    "    cities_weather_df = pd.DataFrame(weather_items)\n",
    "    cities_weather_df[\"forecast_time\"] = pd.to_datetime(cities_weather_df[\"forecast_time\"])\n",
    "    cities_weather_df[\"data_retrieved_at\"] = pd.to_datetime(cities_weather_df[\"data_retrieved_at\"])       \n",
    "    \n",
    "    return cities_weather_df\n",
    "\n",
    "#Function to store weather data as an SQL database\n",
    "def store_weather_data(cities_weather_df, connection_string):\n",
    "  cities_weather_df.to_sql('weather',\n",
    "                    if_exists='append',\n",
    "                    con=connection_string,\n",
    "                    index=False)"
   ]
  },
  {
   "cell_type": "code",
   "execution_count": 48,
   "id": "03709a86-1f3b-4a16-8753-2b407e3e51af",
   "metadata": {},
   "outputs": [
    {
     "data": {
      "text/plain": [
       "'Data has been updated'"
      ]
     },
     "execution_count": 48,
     "metadata": {},
     "output_type": "execute_result"
    }
   ],
   "source": [
    "retrieve_and_send_data()"
   ]
  },
  {
   "cell_type": "code",
   "execution_count": null,
   "id": "974151a5-cabe-4f21-8367-75948654acbc",
   "metadata": {},
   "outputs": [],
   "source": [
    "#libraries used (for requirements.txt on GCP)\n",
    "functions-framework\n",
    "SQLAlchemy\n",
    "PyMySQL\n",
    "pandas\n",
    "requests\n",
    "pytz"
   ]
  }
 ],
 "metadata": {
  "kernelspec": {
   "display_name": "Python 3 (ipykernel)",
   "language": "python",
   "name": "python3"
  },
  "language_info": {
   "codemirror_mode": {
    "name": "ipython",
    "version": 3
   },
   "file_extension": ".py",
   "mimetype": "text/x-python",
   "name": "python",
   "nbconvert_exporter": "python",
   "pygments_lexer": "ipython3",
   "version": "3.12.4"
  }
 },
 "nbformat": 4,
 "nbformat_minor": 5
}
