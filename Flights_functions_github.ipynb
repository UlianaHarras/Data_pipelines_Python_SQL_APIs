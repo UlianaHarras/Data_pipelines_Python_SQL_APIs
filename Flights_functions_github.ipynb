{
 "cells": [
  {
   "cell_type": "code",
   "execution_count": 248,
   "id": "fcb228e8-3d4c-45e9-8f88-e5eedd7cd19b",
   "metadata": {},
   "outputs": [],
   "source": [
    "import pandas as pd\n",
    "import requests\n",
    "import json\n",
    "from pytz import timezone\n",
    "from datetime import datetime, timedelta\n",
    "\n",
    "# Main function to retrieve data from Rapid API (AeroDataBox) and send it to SQL\n",
    "def retrieve_and_send_data():\n",
    "  connection_string = create_connection_string()\n",
    "  airports_df = fetch_airports_data(connection_string)\n",
    "  flights_df = icao_flights(airports_df)\n",
    "  store_flights_data(flights_df, connection_string)\n",
    "  return \"Data has been updated\"\n",
    "\n",
    "# Function to create a connection string to save data in SQL database\n",
    "def create_connection_string():\n",
    "  schema = \"NAME_OF_YOUR_SQL_DATABASE\"\n",
    "  host = \"11.11.111.111\"\n",
    "  user = \"root\"\n",
    "  password = \"YOUR_PASSWORD\"\n",
    "  port = 3306\n",
    "  return f'mysql+pymysql://{user}:{password}@{host}:{port}/{schema}'\n",
    "\n",
    "# Function to get airports data (airport name,icao) from SQL\n",
    "def fetch_airports_data(connection_string):\n",
    "  return pd.read_sql(\"airports\", con=connection_string)\n",
    "\n",
    "# Function to get icao data (airport code) from API\n",
    "def icao_flights(airports_df):\n",
    "    berlin_timezone = timezone('Europe/Berlin')\n",
    "    tomorrow_datetime = datetime.now(berlin_timezone) + timedelta(days=1)\n",
    "    flight_items=[]\n",
    "    flight_items_2=[]\n",
    "    #for the first 12 hours (from 00:00 till 11:59)\n",
    "    for _, airport in airports_df.iterrows():\n",
    "            airport_icao = airport['airport_icao']\n",
    "            tomorrow_start_of_day = berlin_timezone.localize(datetime(tomorrow_datetime.year, tomorrow_datetime.month, tomorrow_datetime.day, 0, 0))\n",
    "            tomorrow_midday = berlin_timezone.localize(datetime(tomorrow_datetime.year, tomorrow_datetime.month, tomorrow_datetime.day, 11, 59))\n",
    "            start_time = tomorrow_start_of_day.strftime(\"%Y-%m-%dT%H:%M\")\n",
    "            end_time = tomorrow_midday.strftime(\"%Y-%m-%dT%H:%M\")\n",
    "            url = f\"https://aerodatabox.p.rapidapi.com/flights/airports/icao/{airport_icao}/{start_time}/{end_time}\"\n",
    "            querystring = {\"direction\":\"Arrival\"}\n",
    "            headers = {\n",
    "            \t\"x-rapidapi-key\": \"YOUR_API_KEY\",\n",
    "            \t\"x-rapidapi-host\": \"aerodatabox.p.rapidapi.com\"\n",
    "            }\n",
    "            response = requests.get(url, headers=headers, params=querystring)\n",
    "            flights_new=response.json()\n",
    "            for i in flights_new['arrivals']:\n",
    "                flight_item = {\n",
    "                            \"flight_num\": i.get('number'),\n",
    "                            \"departure_icao\": i['movement']['airport'].get('icao'),\n",
    "                            \"arrival_icao\": airport_icao,\n",
    "                            \"arrival_time\": i['movement']['scheduledTime'].get('local'),\n",
    "                }\n",
    "                flight_items.append(flight_item)\n",
    "    flights_df_1 = pd.DataFrame(flight_items)\n",
    "\n",
    "    for _, airport in airports_df.iterrows():\n",
    "            airport_icao = airport['airport_icao']\n",
    "            tomorrow_midday_2 = berlin_timezone.localize(datetime(tomorrow_datetime.year, tomorrow_datetime.month, tomorrow_datetime.day, 12, 0))\n",
    "            tomorrow_night = berlin_timezone.localize(datetime(tomorrow_datetime.year, tomorrow_datetime.month, tomorrow_datetime.day, 23, 59))\n",
    "            start_time_2 = tomorrow_midday_2.strftime(\"%Y-%m-%dT%H:%M\")\n",
    "            end_time_2 = tomorrow_night.strftime(\"%Y-%m-%dT%H:%M\")\n",
    "            url = f\"https://aerodatabox.p.rapidapi.com/flights/airports/icao/{airport_icao}/{start_time_2}/{end_time_2}\"\n",
    "            querystring = {\"direction\":\"Arrival\"}\n",
    "            headers = {\n",
    "            \t\"x-rapidapi-key\": \"YOUR_API_KEY\",\n",
    "            \t\"x-rapidapi-host\": \"aerodatabox.p.rapidapi.com\"\n",
    "            }\n",
    "            response_2 = requests.get(url, headers=headers, params=querystring)\n",
    "            flights_2=response_2.json()\n",
    "            for i in flights_2['arrivals']:\n",
    "                flight_item_2 = {\n",
    "                            \"flight_num\": i.get('number'),\n",
    "                            \"departure_icao\": i['movement']['airport'].get('icao'),\n",
    "                            \"arrival_icao\": airport_icao,\n",
    "                            \"arrival_time\": i['movement']['scheduledTime'].get('local'),\n",
    "                }\n",
    "                flight_items_2.append(flight_item_2)\n",
    "    flights_df_2 = pd.DataFrame(flight_items_2)\n",
    "    flights_df = pd.concat([flights_df_1,flights_df_2],axis=0)\n",
    "    flights_df[\"arrival_time\"] = pd.to_datetime(flights_df[\"arrival_time\"]) \n",
    "    flights_df[\"arrival_time\"] = flights_df[\"arrival_time\"].dt.strftime(\"%Y-%m-%dT%H:%M\")\n",
    "    flights_df[\"arrival_time\"] = pd.to_datetime(flights_df[\"arrival_time\"])\n",
    "    return flights_df\n",
    "\n",
    "    \n",
    "#Function to store flights data as an SQL database\n",
    "def store_flights_data(flights_df, connection_string):\n",
    "  flights_df.to_sql('flights',\n",
    "                    if_exists='append',\n",
    "                    con=connection_string,\n",
    "                    index=False)\n",
    "\n"
   ]
  },
  {
   "cell_type": "code",
   "execution_count": 250,
   "id": "91217bb0-4ccc-492d-a936-6450837ac231",
   "metadata": {},
   "outputs": [
    {
     "data": {
      "text/plain": [
       "'Data has been updated'"
      ]
     },
     "execution_count": 250,
     "metadata": {},
     "output_type": "execute_result"
    }
   ],
   "source": [
    "retrieve_and_send_data()"
   ]
  },
  {
   "cell_type": "code",
   "execution_count": null,
   "id": "185ae695-38f6-4e99-b120-aed249553192",
   "metadata": {},
   "outputs": [],
   "source": [
    "#libraries used (for requirements.txt on GCP)\n",
    "functions-framework\n",
    "SQLAlchemy\n",
    "PyMySQL\n",
    "pandas\n",
    "requests\n",
    "pytz"
   ]
  }
 ],
 "metadata": {
  "kernelspec": {
   "display_name": "Python 3 (ipykernel)",
   "language": "python",
   "name": "python3"
  },
  "language_info": {
   "codemirror_mode": {
    "name": "ipython",
    "version": 3
   },
   "file_extension": ".py",
   "mimetype": "text/x-python",
   "name": "python",
   "nbconvert_exporter": "python",
   "pygments_lexer": "ipython3",
   "version": "3.12.4"
  }
 },
 "nbformat": 4,
 "nbformat_minor": 5
}
