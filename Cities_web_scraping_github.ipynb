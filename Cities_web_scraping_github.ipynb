{
 "cells": [
  {
   "cell_type": "code",
   "execution_count": 1,
   "id": "e169ce33-a061-41dc-a620-14200c5e7633",
   "metadata": {},
   "outputs": [],
   "source": [
    "import pandas as pd\n",
    "import requests\n",
    "from bs4 import BeautifulSoup"
   ]
  },
  {
   "cell_type": "code",
   "execution_count": 2,
   "id": "59beec11-3cae-4be6-aaef-4a09033fe2da",
   "metadata": {},
   "outputs": [],
   "source": [
    "# URL for Berlin, Munich and Hamburg Wikipedia pages\n",
    "url_BER = \"https://en.wikipedia.org/wiki/Berlin\"\n",
    "url_MUN = \"https://en.wikipedia.org/wiki/Munich\"\n",
    "url_HAM = \"https://en.wikipedia.org/wiki/Hamburg\"\n",
    "url_list=[url_BER,url_MUN,url_HAM]"
   ]
  },
  {
   "cell_type": "code",
   "execution_count": 4,
   "id": "77f49ddc-e66a-4b21-b80b-653b67211765",
   "metadata": {},
   "outputs": [],
   "source": [
    "# An empty dataframeto fill with extracted information\n",
    "German_cities=pd.DataFrame(columns=['cityname','country','latitude','longitude','population','population_timestamp'])"
   ]
  },
  {
   "cell_type": "code",
   "execution_count": 11,
   "id": "8323362c-e3b2-451e-865e-093e8b8f2024",
   "metadata": {},
   "outputs": [],
   "source": [
    "# Empty lists to fill with the extracted information\n",
    "cityname=[]\n",
    "country=[]\n",
    "latitude=[]\n",
    "longitude=[]\n",
    "population=[]"
   ]
  },
  {
   "cell_type": "code",
   "execution_count": 15,
   "id": "13ef4c2d-03c0-4432-9e0e-2cf0f7739c49",
   "metadata": {},
   "outputs": [
    {
     "name": "stdout",
     "output_type": "stream",
     "text": [
      "Requirement already satisfied: lat-lon-parser in d:\\anaconda\\lib\\site-packages (1.3.0)\n",
      "City:Berlin, Country:Germany, lalitude:52°31′12″N, longitude:13°24′18″E, population:3878100\n",
      "\n",
      "City:Munich , Country:Germany, lalitude:48°08′15″N, longitude:11°34′30″E, population:1510378\n",
      "\n",
      "City:Hamburg, Country:Germany, lalitude:53°33′N, longitude:10°00′E, population:1964021\n",
      "\n"
     ]
    }
   ],
   "source": [
    "from datetime import datetime\n",
    "!pip install lat-lon-parser\n",
    "from lat_lon_parser import parse\n",
    "\n",
    "for url_city in url_list:\n",
    "  response_city = requests.get(url_city)\n",
    "  soup_city=BeautifulSoup(response_city.content, 'html.parser')\n",
    "  city_name=soup_city.select(\"div.fn.org\")[0].get_text()\n",
    "  country_name=soup_city.select(\"td.infobox-data a\")[0].get_text()\n",
    "  latitude_city=soup_city.select(\"span.latitude\")[0].get_text()\n",
    "  longitude_city=soup_city.select(\"span.longitude\")[0].get_text()\n",
    "  population_city=soup_city.find(string=\"Population\").find_next(\"td\").get_text()\n",
    "  # formatting population \n",
    "  population_city_cl=int(population_city.replace(\",\", \"\"))\n",
    "  print(f'City:{city_name}, Country:{country_name}, lalitude:{latitude_city}, longitude:{longitude_city}, population:{population_city_cl}')\n",
    "  print()\n",
    "  # formatting latitude and logitude (changing from degrees to floats)\n",
    "  a=parse(latitude_city)\n",
    "  b=parse(longitude_city)\n",
    "  today = datetime.today().strftime(\"%d.%m.%Y\")\n",
    "  # Adding information to the lists\n",
    "  cityname.append(city_name)\n",
    "  country.append(country_name)\n",
    "  latitude.append(a)\n",
    "  longitude.append(b)\n",
    "  population.append(population_city_cl)"
   ]
  },
  {
   "cell_type": "code",
   "execution_count": 16,
   "id": "fed343f3-35e9-4f05-8fba-ca39325ac521",
   "metadata": {},
   "outputs": [],
   "source": [
    "# Filling the data frame with the extracted info:\n",
    "German_cities['cityname']=cityname\n",
    "German_cities['country']=country\n",
    "German_cities['latitude']=latitude\n",
    "German_cities['longitude']=longitude\n",
    "German_cities['population']=population\n",
    "German_cities['population_timestamp']=today"
   ]
  },
  {
   "cell_type": "code",
   "execution_count": 21,
   "id": "adaebc71-2f3a-4b2f-98c5-73ddd138f505",
   "metadata": {},
   "outputs": [],
   "source": [
    "# Creating cities and population data frames with the same structure as SQL tables:\n",
    "cities=pd.DataFrame(columns=['city_name','country_code','latitude','longitude'])\n",
    "population=pd.DataFrame(columns=['city_id','population','timestamp_population'])"
   ]
  },
  {
   "cell_type": "code",
   "execution_count": 29,
   "id": "24f2cfbf-5176-47ff-80d6-6fda4306192f",
   "metadata": {},
   "outputs": [],
   "source": [
    "# Filling cities data frame with extracted information\n",
    "cities['city_id']=[1,2,3]\n",
    "cities['city_name']=German_cities['cityname']\n",
    "cities['country_code']=['DE','DE','DE']\n",
    "cities['latitude']=German_cities['latitude']\n",
    "cities['longitude']=German_cities['longitude']"
   ]
  },
  {
   "cell_type": "code",
   "execution_count": 39,
   "id": "a60f04ea-5e31-4a8c-aba3-b2f350101225",
   "metadata": {},
   "outputs": [],
   "source": [
    "# Filling populatiuon data frame with extracted information\n",
    "population['city_id']=[1,2,3]\n",
    "population['population']=German_cities['population']\n",
    "population['timestamp_population']=German_cities['population_timestamp']\n",
    "population['timestamp_population']=pd.to_datetime(population['timestamp_population'],dayfirst=True)"
   ]
  },
  {
   "cell_type": "code",
   "execution_count": 47,
   "id": "f73e559f-0d46-4ded-b1b7-590268121161",
   "metadata": {},
   "outputs": [],
   "source": [
    "# Defining a connection string\n",
    "schema = \"YOUR_SQL_DATABASE_NAME\"\n",
    "host = \"11.11.111.111\"\n",
    "user = \"root\"\n",
    "password = \"YOUR_PASSWORD\"\n",
    "port = 3306\n",
    "\n",
    "connection_string = f'mysql+pymysql://{user}:{password}@{host}:{port}/{schema}'"
   ]
  },
  {
   "cell_type": "code",
   "execution_count": 49,
   "id": "afa8e877-087d-42c3-92db-a059f2e6676c",
   "metadata": {},
   "outputs": [
    {
     "data": {
      "text/plain": [
       "3"
      ]
     },
     "execution_count": 49,
     "metadata": {},
     "output_type": "execute_result"
    }
   ],
   "source": [
    "# Writing cities data frame to SQL cities table\n",
    "cities.to_sql('cities',if_exists='append',con=connection_string,index=False)"
   ]
  },
  {
   "cell_type": "code",
   "execution_count": 51,
   "id": "9a7f1257-4287-4c87-936e-7f92d7e33b1f",
   "metadata": {},
   "outputs": [
    {
     "data": {
      "text/plain": [
       "3"
      ]
     },
     "execution_count": 51,
     "metadata": {},
     "output_type": "execute_result"
    }
   ],
   "source": [
    "# Writing population data frame to SQL population table\n",
    "population.to_sql('population',if_exists='append',con=connection_string,index=False)"
   ]
  }
 ],
 "metadata": {
  "kernelspec": {
   "display_name": "Python 3 (ipykernel)",
   "language": "python",
   "name": "python3"
  },
  "language_info": {
   "codemirror_mode": {
    "name": "ipython",
    "version": 3
   },
   "file_extension": ".py",
   "mimetype": "text/x-python",
   "name": "python",
   "nbconvert_exporter": "python",
   "pygments_lexer": "ipython3",
   "version": "3.12.4"
  }
 },
 "nbformat": 4,
 "nbformat_minor": 5
}
