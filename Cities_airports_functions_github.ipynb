{
 "cells": [
  {
   "cell_type": "code",
   "execution_count": 2,
   "id": "fcb228e8-3d4c-45e9-8f88-e5eedd7cd19b",
   "metadata": {},
   "outputs": [],
   "source": [
    "import pandas as pd\n",
    "import requests\n",
    "import json\n",
    "\n",
    "# Main function to retrieve data from Rapid API (AeroDataBox) and send it to SQL\n",
    "def retrieve_and_send_data():\n",
    "  connection_string = create_connection_string()\n",
    "  cities_df = fetch_cities_data(connection_string)\n",
    "  cities_airports_df = icao_airport_codes(cities_df)\n",
    "  airports_df = icao_airport_names(cities_df)\n",
    "  store_cities_airports(cities_airports_df, connection_string)\n",
    "  store_airports(airports_df, connection_string)\n",
    "  return \"Data has been updated\"\n",
    "\n",
    "# Function to create a connection string to save data in SQL database\n",
    "def create_connection_string():\n",
    "  schema = \"YOUR_SQL_DATABASE_NAME\"\n",
    "  host = \"11.11.111.111\"\n",
    "  user = \"root\"\n",
    "  password = \"YOUR_PASSWORD\"\n",
    "  port = 3306\n",
    "  return f'mysql+pymysql://{user}:{password}@{host}:{port}/{schema}'\n",
    "\n",
    "# Function to get cities data (city name,id and lat/long) from SQL\n",
    "def fetch_cities_data(connection_string):\n",
    "  return pd.read_sql(\"cities\", con=connection_string)\n",
    "\n",
    "# Function to get icao data (airport code) from API\n",
    "def icao_airport_codes(cities_df):\n",
    "    cities_airports=[]\n",
    "    for _, city in cities_df.iterrows():\n",
    "        city_id = city['city_id']\n",
    "        latitude = city['latitude']\n",
    "        longitude = city['longitude']\n",
    "        url = f\"https://aerodatabox.p.rapidapi.com/airports/search/location/{latitude}/{longitude}/km/50/10\"\n",
    "        querystring = {\"withFlightInfoOnly\":\"true\"}\n",
    "        headers = {\n",
    "                \t\"x-rapidapi-key\": \"YOUR_API_KEY\",\n",
    "                \t\"x-rapidapi-host\": \"aerodatabox.p.rapidapi.com\"\n",
    "        }\n",
    "        response = requests.get(url, headers=headers, params=querystring)\n",
    "        airports_json = response.json()\n",
    "        for i in airports_json['items']:\n",
    "            airport_icao = {\n",
    "                        \"city_id\": city_id,\n",
    "                        \"airport_icao\": i.get(\"icao\",None)\n",
    "            }\n",
    "            cities_airports.append(airport_icao)\n",
    "    cities_airports_df = pd.DataFrame(cities_airports)\n",
    "    return cities_airports_df\n",
    "\n",
    "# Function to get airport name and icao data (airport code) from API\n",
    "def icao_airport_names(cities_df):\n",
    "    airports=[]\n",
    "    for _, city in cities_df.iterrows():\n",
    "        city_id = city['city_id']\n",
    "        latitude = city['latitude']\n",
    "        longitude = city['longitude']\n",
    "        url = f\"https://aerodatabox.p.rapidapi.com/airports/search/location/{latitude}/{longitude}/km/50/10\"\n",
    "        querystring = {\"withFlightInfoOnly\":\"true\"}\n",
    "        headers = {\n",
    "                \t\"x-rapidapi-key\": \"YOUR_API_KEY\",\n",
    "                \t\"x-rapidapi-host\": \"aerodatabox.p.rapidapi.com\"\n",
    "        }\n",
    "        response = requests.get(url, headers=headers, params=querystring)\n",
    "        airports_json = response.json()\n",
    "        for i in airports_json['items']:\n",
    "            airport_name = {\n",
    "                        \"airport_icao\": i.get(\"icao\",None),\n",
    "                        \"airport_name\": i.get(\"name\",None)\n",
    "            }\n",
    "            airports.append(airport_name)\n",
    "\n",
    "    airports_df = pd.DataFrame(airports)\n",
    "    return airports_df\n",
    "    \n",
    "#Function to store airport icao data as an SQL database\n",
    "def store_cities_airports(cities_airports_df, connection_string):\n",
    "  cities_airports_df.to_sql('cities_airports',\n",
    "                    if_exists='append',\n",
    "                    con=connection_string,\n",
    "                    index=False)\n",
    "\n",
    "#Function to store airport name data as an SQL database\n",
    "def store_airports(airports_df, connection_string):\n",
    "  airports_df.to_sql('airports',\n",
    "                    if_exists='append',\n",
    "                    con=connection_string,\n",
    "                    index=False)    "
   ]
  },
  {
   "cell_type": "code",
   "execution_count": 4,
   "id": "91217bb0-4ccc-492d-a936-6450837ac231",
   "metadata": {},
   "outputs": [
    {
     "data": {
      "text/plain": [
       "'Data has been updated'"
      ]
     },
     "execution_count": 4,
     "metadata": {},
     "output_type": "execute_result"
    }
   ],
   "source": [
    "retrieve_and_send_data()"
   ]
  },
  {
   "cell_type": "code",
   "execution_count": null,
   "id": "deff75c7-fa67-4700-ae9b-850f87a445d2",
   "metadata": {},
   "outputs": [],
   "source": []
  }
 ],
 "metadata": {
  "kernelspec": {
   "display_name": "Python 3 (ipykernel)",
   "language": "python",
   "name": "python3"
  },
  "language_info": {
   "codemirror_mode": {
    "name": "ipython",
    "version": 3
   },
   "file_extension": ".py",
   "mimetype": "text/x-python",
   "name": "python",
   "nbconvert_exporter": "python",
   "pygments_lexer": "ipython3",
   "version": "3.12.4"
  }
 },
 "nbformat": 4,
 "nbformat_minor": 5
}
